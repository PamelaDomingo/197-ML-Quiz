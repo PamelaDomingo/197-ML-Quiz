{
 "cells": [
  {
   "cell_type": "markdown",
   "id": "746117b6",
   "metadata": {},
   "source": [
    "Lec 01.1 - Quiz 1"
   ]
  },
  {
   "cell_type": "markdown",
   "id": "1101a31c",
   "metadata": {},
   "source": [
    "# Lec 01.1 - Quiz 1"
   ]
  },
  {
   "cell_type": "markdown",
   "id": "84e450ab",
   "metadata": {},
   "source": [
    "## Part 1"
   ]
  },
  {
   "cell_type": "markdown",
   "id": "40416042",
   "metadata": {},
   "source": [
    "### Mean Squared Error"
   ]
  },
  {
   "cell_type": "markdown",
   "id": "4283ab5d",
   "metadata": {},
   "source": [
    "### Mean Absolute Error (MAE)"
   ]
  },
  {
   "cell_type": "markdown",
   "id": "c4505918",
   "metadata": {},
   "source": [
    "\n",
    "### Mean Squared Logarithmic Error\n"
   ]
  },
  {
   "cell_type": "markdown",
   "id": "6b6d24ab",
   "metadata": {},
   "source": [
    "### Mean Absolute Percentage Error"
   ]
  },
  {
   "cell_type": "markdown",
   "id": "f20bafb8",
   "metadata": {},
   "source": [
    "## Part 2\n"
   ]
  },
  {
   "cell_type": "code",
   "execution_count": null,
   "id": "a3e3952c",
   "metadata": {},
   "outputs": [],
   "source": []
  },
  {
   "cell_type": "code",
   "execution_count": null,
   "id": "af05202a",
   "metadata": {},
   "outputs": [],
   "source": []
  },
  {
   "cell_type": "markdown",
   "id": "06bac8a6",
   "metadata": {},
   "source": [
    "### "
   ]
  },
  {
   "cell_type": "code",
   "execution_count": null,
   "id": "102ca31f",
   "metadata": {},
   "outputs": [],
   "source": []
  }
 ],
 "metadata": {
  "kernelspec": {
   "display_name": "Python 3 (ipykernel)",
   "language": "python",
   "name": "python3"
  },
  "language_info": {
   "codemirror_mode": {
    "name": "ipython",
    "version": 3
   },
   "file_extension": ".py",
   "mimetype": "text/x-python",
   "name": "python",
   "nbconvert_exporter": "python",
   "pygments_lexer": "ipython3",
   "version": "3.9.12"
  }
 },
 "nbformat": 4,
 "nbformat_minor": 5
}
