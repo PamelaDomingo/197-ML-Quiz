{
 "cells": [
  {
   "cell_type": "markdown",
   "id": "746117b6",
   "metadata": {},
   "source": [
    "Lec 01.1 - Quiz 1"
   ]
  },
  {
   "cell_type": "markdown",
   "id": "1101a31c",
   "metadata": {},
   "source": [
    "# Lec 01.1 - Quiz 1"
   ]
  },
  {
   "cell_type": "code",
   "execution_count": 1,
   "id": "cf3010f9",
   "metadata": {},
   "outputs": [
    {
     "name": "stdout",
     "output_type": "stream",
     "text": [
      "%pylab is deprecated, use %matplotlib inline and import the required libraries.\n",
      "Populating the interactive namespace from numpy and matplotlib\n"
     ]
    }
   ],
   "source": [
    "%pylab inline"
   ]
  },
  {
   "cell_type": "markdown",
   "id": "84e450ab",
   "metadata": {},
   "source": [
    "## Part 1"
   ]
  },
  {
   "cell_type": "markdown",
   "id": "5d5cca7a",
   "metadata": {},
   "source": [
    "**y_hat**  (1D array, dimension, and shape)"
   ]
  },
  {
   "cell_type": "code",
   "execution_count": 2,
   "id": "8f5d475d",
   "metadata": {},
   "outputs": [
    {
     "name": "stdout",
     "output_type": "stream",
     "text": [
      "[-1.         -0.89473684 -0.78947368 -0.68421053 -0.57894737 -0.47368421\n",
      " -0.36842105 -0.26315789 -0.15789474 -0.05263158  0.05263158  0.15789474\n",
      "  0.26315789  0.36842105  0.47368421  0.57894737  0.68421053  0.78947368\n",
      "  0.89473684  1.        ]\n"
     ]
    }
   ],
   "source": [
    "y_hat = np.linspace(-1, 1, num=20)\n",
    "dim_y_hat = y_hat.ndim\n",
    "shape_y_hat = y_hat.shape\n",
    "\n",
    "print(y_hat)"
   ]
  },
  {
   "cell_type": "markdown",
   "id": "19aaba2e",
   "metadata": {},
   "source": [
    "**y**  (2D array, dimension, and shape)\n",
    "    "
   ]
  },
  {
   "cell_type": "code",
   "execution_count": 3,
   "id": "2da0f9f9",
   "metadata": {},
   "outputs": [
    {
     "name": "stdout",
     "output_type": "stream",
     "text": [
      "[0.         0.05263158 0.10526316 0.15789474 0.21052632 0.26315789\n",
      " 0.31578947 0.36842105 0.42105263 0.47368421 0.52631579 0.57894737\n",
      " 0.63157895 0.68421053 0.73684211 0.78947368 0.84210526 0.89473684\n",
      " 0.94736842 1.        ]\n"
     ]
    }
   ],
   "source": [
    "y = np.linspace(0, 1, num=20)\n",
    "dim_y = y.ndim\n",
    "shape_y = y.shape\n",
    "\n",
    "print(y)"
   ]
  },
  {
   "cell_type": "markdown",
   "id": "40416042",
   "metadata": {},
   "source": [
    "### Mean Squared Error"
   ]
  },
  {
   "cell_type": "code",
   "execution_count": 4,
   "id": "5bb3e915",
   "metadata": {},
   "outputs": [
    {
     "name": "stdout",
     "output_type": "stream",
     "text": [
      "Mean Squared Error =  0.3421052631578948\n"
     ]
    }
   ],
   "source": [
    "def meanSquaredError(y_hat, y):\n",
    "    diff = np.subtract(y_hat, y)\n",
    "    sqr = np.square(diff)\n",
    "    l_mse = sqr.mean()\n",
    "    \n",
    "    return l_mse\n",
    "        \n",
    "print(\"Mean Squared Error = \", meanSquaredError(y_hat, y))"
   ]
  },
  {
   "cell_type": "markdown",
   "id": "4283ab5d",
   "metadata": {},
   "source": [
    "### Mean Absolute Error (MAE)"
   ]
  },
  {
   "cell_type": "code",
   "execution_count": 5,
   "id": "8cd0df46",
   "metadata": {},
   "outputs": [
    {
     "name": "stdout",
     "output_type": "stream",
     "text": [
      "Mean Absolute Error =  0.4999999999999999\n"
     ]
    }
   ],
   "source": [
    "def meanAbsoluteError(y_hat, y):\n",
    "    diff = np.subtract(y_hat, y)\n",
    "    abslt = np.abs(diff)\n",
    "    l_mae = abslt.mean()\n",
    "    \n",
    "    return l_mae\n",
    "        \n",
    "print(\"Mean Absolute Error = \", meanAbsoluteError(y_hat, y))"
   ]
  },
  {
   "cell_type": "markdown",
   "id": "c4505918",
   "metadata": {},
   "source": [
    "\n",
    "### Mean Squared Logarithmic Error\n"
   ]
  },
  {
   "cell_type": "code",
   "execution_count": 6,
   "id": "db974880",
   "metadata": {},
   "outputs": [
    {
     "name": "stdout",
     "output_type": "stream",
     "text": [
      "Mean Squared Logarithmic Error =  inf\n"
     ]
    },
    {
     "name": "stderr",
     "output_type": "stream",
     "text": [
      "C:\\Users\\Pamela\\AppData\\Local\\Temp\\ipykernel_4092\\144332985.py:5: RuntimeWarning: divide by zero encountered in log\n",
      "  lg_y_hat = np.log(new_y_hat)\n"
     ]
    }
   ],
   "source": [
    "\n",
    "def meanSquaredLogarithmicError(y_hat, y):\n",
    "    new_y_hat = np.add(y_hat,1)\n",
    "    new_y = np.add(y,1)\n",
    "    \n",
    "    lg_y_hat = np.log(new_y_hat)\n",
    "    lg_y = np.log(new_y)\n",
    "    \n",
    "    diff = np.subtract(lg_y_hat, lg_y)\n",
    "    sqr = np.square(diff)\n",
    "    l_msle = sqr.mean()\n",
    "    \n",
    "    return l_msle\n",
    "    \n",
    "print(\"Mean Squared Logarithmic Error = \", meanSquaredLogarithmicError(y_hat, y))\n",
    "# Inf because one of the target values is negative."
   ]
  },
  {
   "cell_type": "markdown",
   "id": "6b6d24ab",
   "metadata": {},
   "source": [
    "### Mean Absolute Percentage Error"
   ]
  },
  {
   "cell_type": "code",
   "execution_count": 7,
   "id": "b0f81fd6",
   "metadata": {},
   "outputs": [
    {
     "name": "stdout",
     "output_type": "stream",
     "text": [
      "Mean Absolute Error =  202.65927536515775\n"
     ]
    }
   ],
   "source": [
    "def meanAbsolutePercentageError(y_hat, y):\n",
    "    diff = np.subtract(y_hat, y)\n",
    "    qout = diff/y_hat\n",
    "    abslt = np.abs(qout)\n",
    "    l_mape = abslt.mean()*100\n",
    "    \n",
    "    return l_mape\n",
    "\n",
    "print(\"Mean Absolute Error = \",meanAbsolutePercentageError(y_hat, y))"
   ]
  },
  {
   "cell_type": "markdown",
   "id": "f20bafb8",
   "metadata": {},
   "source": [
    "## Part 2\n"
   ]
  },
  {
   "cell_type": "markdown",
   "id": "e724642e",
   "metadata": {},
   "source": [
    "1.Create a 1d array M {1, 2, …16} using the arange function"
   ]
  },
  {
   "cell_type": "code",
   "execution_count": 8,
   "id": "18827a06",
   "metadata": {},
   "outputs": [],
   "source": [
    "M = np.arange(1,17)"
   ]
  },
  {
   "cell_type": "markdown",
   "id": "51b5c3f2",
   "metadata": {},
   "source": [
    "2.Reshape M into 4x4 array and store it to N"
   ]
  },
  {
   "cell_type": "code",
   "execution_count": 9,
   "id": "4aa5a5f7",
   "metadata": {},
   "outputs": [],
   "source": [
    "N = M.reshape(4,4)"
   ]
  },
  {
   "cell_type": "markdown",
   "id": "f266aa39",
   "metadata": {},
   "source": [
    "3.Get the 2nd row of N"
   ]
  },
  {
   "cell_type": "code",
   "execution_count": 10,
   "id": "595b5140",
   "metadata": {},
   "outputs": [],
   "source": [
    "second_row_N = N[1, :]"
   ]
  },
  {
   "cell_type": "markdown",
   "id": "a2962edb",
   "metadata": {},
   "source": [
    "4.Get the minimum values for each column of N"
   ]
  },
  {
   "cell_type": "code",
   "execution_count": 11,
   "id": "be77c028",
   "metadata": {},
   "outputs": [],
   "source": [
    "min_val_col_N = np.min(N, axis=0)"
   ]
  },
  {
   "cell_type": "markdown",
   "id": "d6235a2c",
   "metadata": {},
   "source": [
    "5.Get the locations of the minimum values for each column of N"
   ]
  },
  {
   "cell_type": "code",
   "execution_count": 12,
   "id": "9e6e8c0c",
   "metadata": {},
   "outputs": [
    {
     "name": "stdout",
     "output_type": "stream",
     "text": [
      "[[(0, 0)], [(0, 1)], [(0, 2)], [(0, 3)]]\n"
     ]
    }
   ],
   "source": [
    "locs = []\n",
    "for x in min_val_col_N:\n",
    "    loc = np.where(N==x) #returns a tuple\n",
    "    locs.append(list(zip(loc[0], loc[1]))) #takes the values in the tuple and creates a list for the location of a value \n",
    "print(locs)"
   ]
  },
  {
   "cell_type": "markdown",
   "id": "a03e5926",
   "metadata": {},
   "source": [
    "6.Get the average of the whole matrix"
   ]
  },
  {
   "cell_type": "code",
   "execution_count": 13,
   "id": "3558c36e",
   "metadata": {},
   "outputs": [],
   "source": [
    "avg_N = np.mean(N)"
   ]
  },
  {
   "cell_type": "markdown",
   "id": "f782f742",
   "metadata": {},
   "source": [
    "7.Create a vector V with 4 elements, each element is 1"
   ]
  },
  {
   "cell_type": "code",
   "execution_count": 14,
   "id": "e52bc176",
   "metadata": {},
   "outputs": [],
   "source": [
    "V = np.ones(4)"
   ]
  },
  {
   "cell_type": "markdown",
   "id": "bf5bf2ed",
   "metadata": {},
   "source": [
    "8.Take the dot product of N and V\n"
   ]
  },
  {
   "cell_type": "code",
   "execution_count": 15,
   "id": "db033241",
   "metadata": {},
   "outputs": [
    {
     "data": {
      "text/plain": [
       "array([10., 26., 42., 58.])"
      ]
     },
     "execution_count": 15,
     "metadata": {},
     "output_type": "execute_result"
    }
   ],
   "source": [
    "np.dot(N, V)"
   ]
  }
 ],
 "metadata": {
  "kernelspec": {
   "display_name": "Python 3 (ipykernel)",
   "language": "python",
   "name": "python3"
  },
  "language_info": {
   "codemirror_mode": {
    "name": "ipython",
    "version": 3
   },
   "file_extension": ".py",
   "mimetype": "text/x-python",
   "name": "python",
   "nbconvert_exporter": "python",
   "pygments_lexer": "ipython3",
   "version": "3.9.12"
  }
 },
 "nbformat": 4,
 "nbformat_minor": 5
}
